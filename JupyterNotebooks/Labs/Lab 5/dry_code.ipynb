{
 "cells": [
  {
   "cell_type": "code",
   "execution_count": 9,
   "metadata": {},
   "outputs": [
    {
     "name": "stdout",
     "output_type": "stream",
     "text": [
      "Your new checking balance is: $2007.44 \n",
      "Your new savings balance is:  $1456.20\n"
     ]
    }
   ],
   "source": [
    "from typing import Tuple\n",
    "\n",
    "SAVINGS = 0.15\n",
    "CHECKINGS = 0.85\n",
    "def add_checkings(numbers, transactions, checkings):\n",
    "    for x in numbers:\n",
    "        checkings += transactions[x]\n",
    "    return checkings\n",
    "\n",
    "def add_savings(numbers, transactions, checkings, savings):\n",
    "    for x in numbers:\n",
    "        checkings += transactions[x] * CHECKINGS\n",
    "        savings += transactions[x] * SAVINGS\n",
    "    return checkings, savings\n",
    "\n",
    "def saturdays_bank_transactions(transactions) -> Tuple[float, float]:\n",
    "    savings = 1096.25\n",
    "    checking = 1590.80\n",
    "\n",
    "    checking = add_checkings([1,2,3,6,7,8,9,10], transactions, checking)\n",
    "    checking, savings = add_savings([0,4,5], transactions, checking, savings)\n",
    "    return checking, savings\n",
    "\n",
    "\n",
    "if __name__ == \"__main__\":\n",
    "    transactions = (300.00, -50.00, -5.00, -20, 15.72, 2083.93, -1034.00, -420.00, -5.23, -15.93, -72.90)\n",
    "    new_balance = saturdays_bank_transactions(transactions)\n",
    "    print(\"Your new checking balance is:\", '${:.2f}'.format(round(new_balance[0], 2)), \"\\nYour new savings balance is: \", '${:.2f}'.format(round(new_balance[1], 2))) "
   ]
  }
 ],
 "metadata": {
  "interpreter": {
   "hash": "aee8b7b246df8f9039afb4144a1f6fd8d2ca17a180786b69acc140d282b71a49"
  },
  "kernelspec": {
   "display_name": "Python 3.10.2 64-bit",
   "language": "python",
   "name": "python3"
  },
  "language_info": {
   "codemirror_mode": {
    "name": "ipython",
    "version": 3
   },
   "file_extension": ".py",
   "mimetype": "text/x-python",
   "name": "python",
   "nbconvert_exporter": "python",
   "pygments_lexer": "ipython3",
   "version": "3.9.5"
  },
  "orig_nbformat": 4
 },
 "nbformat": 4,
 "nbformat_minor": 2
}
