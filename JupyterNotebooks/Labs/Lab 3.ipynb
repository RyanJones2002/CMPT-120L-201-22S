{
 "cells": [
  {
   "cell_type": "markdown",
   "metadata": {},
   "source": [
    "# Lab Three\n",
    "---\n",
    "\n",
    "For this lab we're going to get into logic\n",
    "\n",
    "Our Goals are:\n",
    "- Using Conditionals\n",
    "- Using Loops\n",
    "- Creating a Function\n",
    "- Using a Class"
   ]
  },
  {
   "cell_type": "code",
   "execution_count": null,
   "metadata": {},
   "outputs": [],
   "source": [
    "# Create an if statement"
   ]
  },
  {
   "cell_type": "code",
   "execution_count": 2,
   "metadata": {},
   "outputs": [
    {
     "name": "stdout",
     "output_type": "stream",
     "text": [
      "I can make purple because of the colors available\n"
     ]
    }
   ],
   "source": [
    "has_red = True\n",
    "has_blue = True\n",
    "if has_red and has_blue: \n",
    "    print(\"I can make purple because of the colors available\")\n",
    "\n",
    "\n"
   ]
  },
  {
   "cell_type": "code",
   "execution_count": null,
   "metadata": {},
   "outputs": [],
   "source": [
    "# Create an if else statement"
   ]
  },
  {
   "cell_type": "code",
   "execution_count": 6,
   "metadata": {},
   "outputs": [
    {
     "name": "stdout",
     "output_type": "stream",
     "text": [
      "We would had in our jerseys\n"
     ]
    }
   ],
   "source": [
    "Won_our_lacrosse_game = False\n",
    "if Won_our_lacrosse_game:\n",
    "    print(\"We would go to the championship\")\n",
    "else:\n",
    "    print(\"We would had in our jerseys\")"
   ]
  },
  {
   "cell_type": "code",
   "execution_count": null,
   "metadata": {},
   "outputs": [],
   "source": [
    "# Create an if elif else statement"
   ]
  },
  {
   "cell_type": "code",
   "execution_count": 7,
   "metadata": {},
   "outputs": [
    {
     "name": "stdout",
     "output_type": "stream",
     "text": [
      "We would hand in our jerseys\n"
     ]
    }
   ],
   "source": [
    "Won_our_lacrosse_game = False\n",
    "We_support_the_girls_team = True\n",
    "We_are_home_in_time = False\n",
    "if Won_our_lacrosse_game:\n",
    "    print(\"We would go to the championship\")\n",
    "elif We_support_the_girls_team and We_are_home_in_time:\n",
    "    print(\"We can go watch the girls game\")\n",
    "else:\n",
    "    print(\"We would hand in our jerseys\")\n"
   ]
  },
  {
   "cell_type": "code",
   "execution_count": null,
   "metadata": {},
   "outputs": [],
   "source": [
    "# Create a for loop using range(). Go from 0 to 9. Print out each number."
   ]
  },
  {
   "cell_type": "code",
   "execution_count": 8,
   "metadata": {},
   "outputs": [
    {
     "name": "stdout",
     "output_type": "stream",
     "text": [
      "0\n",
      "1\n",
      "2\n",
      "3\n",
      "4\n",
      "5\n",
      "6\n",
      "7\n",
      "8\n"
     ]
    }
   ],
   "source": [
    "for value in range(0, 9):\n",
    "    print(value)"
   ]
  },
  {
   "cell_type": "code",
   "execution_count": null,
   "metadata": {},
   "outputs": [],
   "source": [
    "# Create a for loop iterating through this list and printing out the value.\n",
    "arr = ['Blue', 'Yellow', 'Red', 'Green', 'Purple', 'Magenta', 'Lilac']\n",
    "\n",
    "# Get the length of the list above and print it."
   ]
  },
  {
   "cell_type": "code",
   "execution_count": 14,
   "metadata": {},
   "outputs": [
    {
     "name": "stdout",
     "output_type": "stream",
     "text": [
      "Blue\n",
      "0\n",
      "yellow\n",
      "1\n",
      "red\n",
      "2\n",
      "Green\n",
      "3\n",
      "Purple\n",
      "4\n",
      "Magenta\n",
      "5\n",
      "Lilac\n",
      "6\n"
     ]
    }
   ],
   "source": [
    "arr = [\"Blue\", \"yellow\", \"red\", \"Green\", \"Purple\", \"Magenta\", \"Lilac\"]\n",
    "for value in range(0,7):\n",
    "    print(arr[value])\n",
    "    print(value)"
   ]
  },
  {
   "cell_type": "code",
   "execution_count": null,
   "metadata": {},
   "outputs": [],
   "source": [
    "# Create a while loop that ends after 6 times through. Print something for each pass."
   ]
  },
  {
   "cell_type": "code",
   "execution_count": 45,
   "metadata": {},
   "outputs": [
    {
     "name": "stdout",
     "output_type": "stream",
     "text": [
      "We have not figured out the secret age\n",
      "We have not figured out the secret age\n",
      "We have not figured out the secret age\n",
      "We have not figured out the secret age\n",
      "We have not figured out the secret age\n",
      "We have not figured out the secret age\n",
      "We found out the secret age: it is 63\n"
     ]
    }
   ],
   "source": [
    "\n",
    "position = 0\n",
    "\n",
    "while position < 6:\n",
    "    print(\"We have not figured out the secret age\")\n",
    "    position += 1\n",
    "\n",
    "print(\"We found out the secret age: it is 63\")"
   ]
  },
  {
   "cell_type": "code",
   "execution_count": 47,
   "metadata": {
    "tags": []
   },
   "outputs": [],
   "source": [
    "# Create a function to add 2 numbers together. Print out the number"
   ]
  },
  {
   "cell_type": "code",
   "execution_count": 50,
   "metadata": {},
   "outputs": [
    {
     "name": "stdout",
     "output_type": "stream",
     "text": [
      "13\n"
     ]
    }
   ],
   "source": [
    "def addition(a, b):\n",
    "    sum = a + b \n",
    "    print(sum)\n",
    "addition(6, 7)"
   ]
  },
  {
   "cell_type": "code",
   "execution_count": null,
   "metadata": {},
   "outputs": [],
   "source": [
    "# Create a function that tells you if a number is odd or even and print the result."
   ]
  },
  {
   "cell_type": "code",
   "execution_count": 65,
   "metadata": {},
   "outputs": [
    {
     "name": "stdout",
     "output_type": "stream",
     "text": [
      "7 is odd\n"
     ]
    }
   ],
   "source": [
    "num = 7\n",
    "if (num % 2) == 0:\n",
    "    print(\"{0} is even\".format(num))\n",
    "else:\n",
    "    print(\"{0} is odd\".format(num))"
   ]
  },
  {
   "cell_type": "code",
   "execution_count": 77,
   "metadata": {
    "tags": []
   },
   "outputs": [
    {
     "name": "stdout",
     "output_type": "stream",
     "text": [
      "Name: Henry\n",
      "Weight: 24 Pounds\n",
      "Height: 100 Inches\n",
      "Breed: Golden Retriever\n"
     ]
    }
   ],
   "source": [
    "# Initialize an instance of the following class. Use a variable to store the object and then call the info function to print out the attributes.\n",
    "class Dog(object):\n",
    "    def __init__(self, name, height, weight, breed):\n",
    "        self.name = name\n",
    "        self.height = height\n",
    "        self.weight = weight\n",
    "        self.breed = breed\n",
    "\n",
    "    def info(self):\n",
    "        print(\"Name:\", self.name)\n",
    "        print(\"Weight:\", str(self.weight) + \" Pounds\")\n",
    "        print(\"Height:\", str(self.height) + \" Inches\")\n",
    "        print(\"Breed:\", self.breed)\n",
    "\n",
    "if __name__ == \"__main__\":\n",
    "    Henry = Dog(\"Henry\", 100, 24, \"Golden Retriever\" )\n",
    "    Henry.info()\n",
    "    # print(\"This dogs name is:\", Henry.name)\n",
    "    # print(\"Henry's height is:\", str(Henry.height) + \" Inches \")\n",
    "    # print(\"Henry's weight is:\", str(Henry.weight) + \" Pounds \")\n",
    "    # print(\"Henry's breed is:\", Henry.breed)"
   ]
  }
 ],
 "metadata": {
  "interpreter": {
   "hash": "6b5318982f8d72d90cd36bfa2e98546ee27090b6a028d8e71394b9f0a4a0e32e"
  },
  "kernelspec": {
   "display_name": "Python 3.8.5 64-bit",
   "language": "python",
   "name": "python3"
  },
  "language_info": {
   "codemirror_mode": {
    "name": "ipython",
    "version": 3
   },
   "file_extension": ".py",
   "mimetype": "text/x-python",
   "name": "python",
   "nbconvert_exporter": "python",
   "pygments_lexer": "ipython3",
   "version": "3.9.5"
  },
  "orig_nbformat": 2
 },
 "nbformat": 4,
 "nbformat_minor": 2
}
